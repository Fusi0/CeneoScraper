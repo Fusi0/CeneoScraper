{
 "cells": [
  {
   "cell_type": "markdown",
   "metadata": {},
   "source": [
    "## Ceneo Scraper"
   ]
  },
  {
   "cell_type": "markdown",
   "metadata": {},
   "source": [
    "## Załadowanie bibliotek"
   ]
  },
  {
   "cell_type": "code",
   "execution_count": 2,
   "metadata": {},
   "outputs": [],
   "source": [
    "import requests\n",
    "from bs4 import BeautifulSoup"
   ]
  },
  {
   "cell_type": "markdown",
   "metadata": {},
   "source": [
    "## Wysyłanie zapytanie do serwera"
   ]
  },
  {
   "cell_type": "code",
   "execution_count": 3,
   "metadata": {},
   "outputs": [],
   "source": [
    "product_id = '138331381'\n",
    "url = f'https://www.ceneo.pl/{product_id}#tab=reviews'\n",
    "response = requests.get(url)"
   ]
  },
  {
   "cell_type": "markdown",
   "metadata": {},
   "source": [
    "## Pobieranie opini z kodu HTML strony"
   ]
  },
  {
   "cell_type": "code",
   "execution_count": 9,
   "metadata": {},
   "outputs": [
    {
     "data": {
      "text/plain": [
       "<div class=\"user-post user-post__card js_product-review\" data-entry-id=\"18497226\">\n",
       "<header class=\"user-post__header\">\n",
       "<div class=\"js_lazy user-post__avatar user-rank__avatar\" data-bg=\"/Content/img/account/avatar/2.svg\"></div>\n",
       "</header>\n",
       "<div class=\"user-post__body\">\n",
       "<div class=\"user-post__content\">\n",
       "<span class=\"user-post__author-name\">\n",
       "m...r</span>\n",
       "<span class=\"user-post__author-recomendation\">\n",
       "<em class=\"recommended\">Polecam</em>\n",
       "</span>\n",
       "<span class=\"user-post__score\">\n",
       "<span class=\"screen-reader-text\">Ocena:</span>\n",
       "<span class=\"score-container score-container--s js_score-container\">\n",
       "<span class=\"score-marker score-marker--s\" style=\"width: 100.00%;\"></span>\n",
       "</span>\n",
       "<span class=\"user-post__score-count\">5/5</span>\n",
       "<span class=\"user-post__published\">\n",
       "        Wystawiono\n",
       "        <time datetime=\"2024-03-16 13:07:37\">2 tygodnie temu, </time>\n",
       "<time datetime=\"2024-03-08 18:30:25\">po 2 tygodniach</time> użytkowania            </span>\n",
       "</span>\n",
       "<div class=\"user-post__text\">Ładniejszy niż na fotce. Jeszcze nie zamontowany ale to kwestia kilku dni. Niezły gadżet na altanę działkową. </div>\n",
       "<div class=\"review-feature\">\n",
       "<div class=\"review-feature__col\">\n",
       "<div class=\"review-feature__title review-feature__title--positives\">Zalety</div>\n",
       "<div class=\"review-feature__item\">jakość</div>\n",
       "<div class=\"review-feature__item\">solidność</div>\n",
       "<div class=\"review-feature__item\">wygląd</div>\n",
       "</div>\n",
       "</div>\n",
       "<div class=\"user-post__bottom\">\n",
       "</div>\n",
       "</div>\n",
       "<div class=\"user-post__info\">\n",
       "<div class=\"d-flex align-items-center justify-content-end\">\n",
       "<div class=\"js_product-review-usefulness vote\">\n",
       "<button class=\"vote-yes js_product-review-vote js_vote-yes\" data-new-icon=\"vote-up\" data-product-id=\"138331381\" data-review-id=\"18497226\" data-total-vote=\"0\" data-url=\"SetOpinionVote\" data-vote=\"1\" data-voted=\"false\"><span id=\"votes-yes-18497226\">0</span></button>\n",
       "<button class=\"vote-no js_product-review-vote js_vote-no\" data-new-icon=\"vote-down\" data-product-id=\"138331381\" data-review-id=\"18497226\" data-total-vote=\"0\" data-url=\"SetOpinionVote\" data-vote=\"0\" data-voted=\"false\"><span id=\"votes-no-18497226\">0</span></button>\n",
       "</div>\n",
       "<div class=\"dropdown-wrapper\">\n",
       "<span class=\"dots-icon-vert\" data-toggle=\"dropdown\"></span>\n",
       "<ul class=\"dropdown-menu force-left\">\n",
       "<li class=\"dropdown-menu__item\" data-product-id=\"138331381\" data-review-id=\"18497226\">\n",
       "<div class=\"js_report-abuse report-abuse cursor-pointer\" data-report-type=\"1\" role=\"button\">\n",
       "<span>\n",
       "Zgłoś    </span>\n",
       "</div>\n",
       "</li>\n",
       "</ul>\n",
       "</div>\n",
       "</div>\n",
       "<div class=\"review-pz\" data-hint=\"Opinia została napisana przez Użytkownika, który kupił produkt.\">\n",
       "<em>Transakcja pochodzi z Marketplace Ceneo (usługi Kup Teraz).</em>\n",
       "</div>\n",
       "</div>\n",
       "<div class=\"js_product-review-comments js_product-review-hook js_product-review-comments-list\" id=\"product-review-comments-18497226\">\n",
       "<a class=\"user-post js_product-review-comment-toggle\" data-comments-count=\"0\" data-product-review-id=\"138331381\" data-review-id=\"18497226\" href=\"#product-review-comment-18497226\" role=\"button\">\n",
       "</a>\n",
       "<div class=\"js_product-review-form-hook\" id=\"product-review-comment-18497226\"></div>\n",
       "</div>\n",
       "</div>\n",
       "</div>"
      ]
     },
     "execution_count": 9,
     "metadata": {},
     "output_type": "execute_result"
    }
   ],
   "source": [
    "page_dom = BeautifulSoup(response.text, 'html.parser')\n",
    "opinions = page_dom.select(\"div.js_product-review\")\n",
    "opinion = opinions.pop(0)\n",
    "opinion\n",
    "\n"
   ]
  },
  {
   "cell_type": "markdown",
   "metadata": {},
   "source": [
    "## Ekstrakcja składowych pojedyńczej opinii\n",
    "\n",
    "|Składowa|Selector|Zmienna|\n",
    "|--------|--------|-------|\n",
    "|id opinii|['data-entry-id']|opinion_id|\n",
    "|autor|.user-post__author-name|author|\n",
    "|rekomendacja|.user-post__author-recomendation|recommendation|\n",
    "|gwiazdki|.user-post__score-count|stars|\n",
    "|treść|.user-post__text|content|\n",
    "|lista zalet|.review-feature__title--positives. ~ .review-feature__item|pros|\n",
    "|lista wad|.review-feature__title--negatives. ~ .review-feature__item|cons|\n",
    "|dla ilu przydatna|button.vote-yes > span|helpful|\n",
    "|dla ilu nie przydatna|button.vote-no > span|unhelpful|\n",
    "|data wystawienia|user-post__published > time:nth-child(1)[\"datetime\"]|publish_date|\n",
    "|data zakupu|user-post__published > time:nth-child(2)[\"datetime\"]|purchase_date|"
   ]
  },
  {
   "cell_type": "markdown",
   "metadata": {},
   "source": []
  },
  {
   "cell_type": "code",
   "execution_count": 25,
   "metadata": {},
   "outputs": [
    {
     "ename": "SelectorSyntaxError",
     "evalue": "Malformed attribute selector at position 45\n  line 1:\nspan.user-post__published > time:nth-child(2)[\"datetime\"]\n                                             ^",
     "output_type": "error",
     "traceback": [
      "\u001b[1;31m---------------------------------------------------------------------------\u001b[0m",
      "\u001b[1;31mSelectorSyntaxError\u001b[0m                       Traceback (most recent call last)",
      "Cell \u001b[1;32mIn[25], line 11\u001b[0m\n\u001b[0;32m      9\u001b[0m unhelpful \u001b[38;5;241m=\u001b[39m opinion\u001b[38;5;241m.\u001b[39mselect_one(\u001b[38;5;124m'\u001b[39m\u001b[38;5;124mbutton.vote-no > span\u001b[39m\u001b[38;5;124m'\u001b[39m)\n\u001b[0;32m     10\u001b[0m \u001b[38;5;66;03m#publish_date = opinion.select_one('span.user-post__published > time:nth-child(1)[\"datetime\"]').text\u001b[39;00m\n\u001b[1;32m---> 11\u001b[0m purchase_date \u001b[38;5;241m=\u001b[39m \u001b[43mopinion\u001b[49m\u001b[38;5;241;43m.\u001b[39;49m\u001b[43mselect_one\u001b[49m\u001b[43m(\u001b[49m\u001b[38;5;124;43m'\u001b[39;49m\u001b[38;5;124;43mspan.user-post__published > time:nth-child(2)[\u001b[39;49m\u001b[38;5;124;43m\"\u001b[39;49m\u001b[38;5;124;43mdatetime\u001b[39;49m\u001b[38;5;124;43m\"\u001b[39;49m\u001b[38;5;124;43m]\u001b[39;49m\u001b[38;5;124;43m'\u001b[39;49m\u001b[43m)\u001b[49m\u001b[38;5;241m.\u001b[39mtext\n",
      "File \u001b[1;32mc:\\Users\\fusik\\OneDrive\\Pulpit\\pp2\\CeneoScraper\\.venv\\Lib\\site-packages\\bs4\\element.py:2094\u001b[0m, in \u001b[0;36mTag.select_one\u001b[1;34m(self, selector, namespaces, **kwargs)\u001b[0m\n\u001b[0;32m   2078\u001b[0m \u001b[38;5;28;01mdef\u001b[39;00m \u001b[38;5;21mselect_one\u001b[39m(\u001b[38;5;28mself\u001b[39m, selector, namespaces\u001b[38;5;241m=\u001b[39m\u001b[38;5;28;01mNone\u001b[39;00m, \u001b[38;5;241m*\u001b[39m\u001b[38;5;241m*\u001b[39mkwargs):\n\u001b[0;32m   2079\u001b[0m \u001b[38;5;250m    \u001b[39m\u001b[38;5;124;03m\"\"\"Perform a CSS selection operation on the current element.\u001b[39;00m\n\u001b[0;32m   2080\u001b[0m \n\u001b[0;32m   2081\u001b[0m \u001b[38;5;124;03m    :param selector: A CSS selector.\u001b[39;00m\n\u001b[1;32m   (...)\u001b[0m\n\u001b[0;32m   2092\u001b[0m \u001b[38;5;124;03m    :rtype: bs4.element.Tag\u001b[39;00m\n\u001b[0;32m   2093\u001b[0m \u001b[38;5;124;03m    \"\"\"\u001b[39;00m\n\u001b[1;32m-> 2094\u001b[0m     \u001b[38;5;28;01mreturn\u001b[39;00m \u001b[38;5;28;43mself\u001b[39;49m\u001b[38;5;241;43m.\u001b[39;49m\u001b[43mcss\u001b[49m\u001b[38;5;241;43m.\u001b[39;49m\u001b[43mselect_one\u001b[49m\u001b[43m(\u001b[49m\u001b[43mselector\u001b[49m\u001b[43m,\u001b[49m\u001b[43m \u001b[49m\u001b[43mnamespaces\u001b[49m\u001b[43m,\u001b[49m\u001b[43m \u001b[49m\u001b[38;5;241;43m*\u001b[39;49m\u001b[38;5;241;43m*\u001b[39;49m\u001b[43mkwargs\u001b[49m\u001b[43m)\u001b[49m\n",
      "File \u001b[1;32mc:\\Users\\fusik\\OneDrive\\Pulpit\\pp2\\CeneoScraper\\.venv\\Lib\\site-packages\\bs4\\css.py:128\u001b[0m, in \u001b[0;36mCSS.select_one\u001b[1;34m(self, select, namespaces, flags, **kwargs)\u001b[0m\n\u001b[0;32m    103\u001b[0m \u001b[38;5;28;01mdef\u001b[39;00m \u001b[38;5;21mselect_one\u001b[39m(\u001b[38;5;28mself\u001b[39m, select, namespaces\u001b[38;5;241m=\u001b[39m\u001b[38;5;28;01mNone\u001b[39;00m, flags\u001b[38;5;241m=\u001b[39m\u001b[38;5;241m0\u001b[39m, \u001b[38;5;241m*\u001b[39m\u001b[38;5;241m*\u001b[39mkwargs):\n\u001b[0;32m    104\u001b[0m \u001b[38;5;250m    \u001b[39m\u001b[38;5;124;03m\"\"\"Perform a CSS selection operation on the current Tag and return the\u001b[39;00m\n\u001b[0;32m    105\u001b[0m \u001b[38;5;124;03m    first result.\u001b[39;00m\n\u001b[0;32m    106\u001b[0m \n\u001b[1;32m   (...)\u001b[0m\n\u001b[0;32m    126\u001b[0m \n\u001b[0;32m    127\u001b[0m \u001b[38;5;124;03m    \"\"\"\u001b[39;00m\n\u001b[1;32m--> 128\u001b[0m     \u001b[38;5;28;01mreturn\u001b[39;00m \u001b[38;5;28;43mself\u001b[39;49m\u001b[38;5;241;43m.\u001b[39;49m\u001b[43mapi\u001b[49m\u001b[38;5;241;43m.\u001b[39;49m\u001b[43mselect_one\u001b[49m\u001b[43m(\u001b[49m\n\u001b[0;32m    129\u001b[0m \u001b[43m        \u001b[49m\u001b[43mselect\u001b[49m\u001b[43m,\u001b[49m\u001b[43m \u001b[49m\u001b[38;5;28;43mself\u001b[39;49m\u001b[38;5;241;43m.\u001b[39;49m\u001b[43mtag\u001b[49m\u001b[43m,\u001b[49m\u001b[43m \u001b[49m\u001b[38;5;28;43mself\u001b[39;49m\u001b[38;5;241;43m.\u001b[39;49m\u001b[43m_ns\u001b[49m\u001b[43m(\u001b[49m\u001b[43mnamespaces\u001b[49m\u001b[43m,\u001b[49m\u001b[43m \u001b[49m\u001b[43mselect\u001b[49m\u001b[43m)\u001b[49m\u001b[43m,\u001b[49m\u001b[43m \u001b[49m\u001b[43mflags\u001b[49m\u001b[43m,\u001b[49m\u001b[43m \u001b[49m\u001b[38;5;241;43m*\u001b[39;49m\u001b[38;5;241;43m*\u001b[39;49m\u001b[43mkwargs\u001b[49m\n\u001b[0;32m    130\u001b[0m \u001b[43m    \u001b[49m\u001b[43m)\u001b[49m\n",
      "File \u001b[1;32mc:\\Users\\fusik\\OneDrive\\Pulpit\\pp2\\CeneoScraper\\.venv\\Lib\\site-packages\\soupsieve\\__init__.py:132\u001b[0m, in \u001b[0;36mselect_one\u001b[1;34m(select, tag, namespaces, flags, custom, **kwargs)\u001b[0m\n\u001b[0;32m    121\u001b[0m \u001b[38;5;28;01mdef\u001b[39;00m \u001b[38;5;21mselect_one\u001b[39m(\n\u001b[0;32m    122\u001b[0m     select: \u001b[38;5;28mstr\u001b[39m,\n\u001b[0;32m    123\u001b[0m     tag: bs4\u001b[38;5;241m.\u001b[39mTag,\n\u001b[1;32m   (...)\u001b[0m\n\u001b[0;32m    128\u001b[0m     \u001b[38;5;241m*\u001b[39m\u001b[38;5;241m*\u001b[39mkwargs: Any\n\u001b[0;32m    129\u001b[0m ) \u001b[38;5;241m-\u001b[39m\u001b[38;5;241m>\u001b[39m bs4\u001b[38;5;241m.\u001b[39mTag:\n\u001b[0;32m    130\u001b[0m \u001b[38;5;250m    \u001b[39m\u001b[38;5;124;03m\"\"\"Select a single tag.\"\"\"\u001b[39;00m\n\u001b[1;32m--> 132\u001b[0m     \u001b[38;5;28;01mreturn\u001b[39;00m \u001b[38;5;28;43mcompile\u001b[39;49m\u001b[43m(\u001b[49m\u001b[43mselect\u001b[49m\u001b[43m,\u001b[49m\u001b[43m \u001b[49m\u001b[43mnamespaces\u001b[49m\u001b[43m,\u001b[49m\u001b[43m \u001b[49m\u001b[43mflags\u001b[49m\u001b[43m,\u001b[49m\u001b[43m \u001b[49m\u001b[38;5;241;43m*\u001b[39;49m\u001b[38;5;241;43m*\u001b[39;49m\u001b[43mkwargs\u001b[49m\u001b[43m)\u001b[49m\u001b[38;5;241m.\u001b[39mselect_one(tag)\n",
      "File \u001b[1;32mc:\\Users\\fusik\\OneDrive\\Pulpit\\pp2\\CeneoScraper\\.venv\\Lib\\site-packages\\soupsieve\\__init__.py:65\u001b[0m, in \u001b[0;36mcompile\u001b[1;34m(pattern, namespaces, flags, custom, **kwargs)\u001b[0m\n\u001b[0;32m     62\u001b[0m         \u001b[38;5;28;01mraise\u001b[39;00m \u001b[38;5;167;01mValueError\u001b[39;00m(\u001b[38;5;124m\"\u001b[39m\u001b[38;5;124mCannot process \u001b[39m\u001b[38;5;124m'\u001b[39m\u001b[38;5;124mcustom\u001b[39m\u001b[38;5;124m'\u001b[39m\u001b[38;5;124m argument on a compiled selector list\u001b[39m\u001b[38;5;124m\"\u001b[39m)\n\u001b[0;32m     63\u001b[0m     \u001b[38;5;28;01mreturn\u001b[39;00m pattern\n\u001b[1;32m---> 65\u001b[0m \u001b[38;5;28;01mreturn\u001b[39;00m \u001b[43mcp\u001b[49m\u001b[38;5;241;43m.\u001b[39;49m\u001b[43m_cached_css_compile\u001b[49m\u001b[43m(\u001b[49m\n\u001b[0;32m     66\u001b[0m \u001b[43m    \u001b[49m\u001b[43mpattern\u001b[49m\u001b[43m,\u001b[49m\n\u001b[0;32m     67\u001b[0m \u001b[43m    \u001b[49m\u001b[43mct\u001b[49m\u001b[38;5;241;43m.\u001b[39;49m\u001b[43mNamespaces\u001b[49m\u001b[43m(\u001b[49m\u001b[43mnamespaces\u001b[49m\u001b[43m)\u001b[49m\u001b[43m \u001b[49m\u001b[38;5;28;43;01mif\u001b[39;49;00m\u001b[43m \u001b[49m\u001b[43mnamespaces\u001b[49m\u001b[43m \u001b[49m\u001b[38;5;129;43;01mis\u001b[39;49;00m\u001b[43m \u001b[49m\u001b[38;5;129;43;01mnot\u001b[39;49;00m\u001b[43m \u001b[49m\u001b[38;5;28;43;01mNone\u001b[39;49;00m\u001b[43m \u001b[49m\u001b[38;5;28;43;01melse\u001b[39;49;00m\u001b[43m \u001b[49m\u001b[43mnamespaces\u001b[49m\u001b[43m,\u001b[49m\n\u001b[0;32m     68\u001b[0m \u001b[43m    \u001b[49m\u001b[43mct\u001b[49m\u001b[38;5;241;43m.\u001b[39;49m\u001b[43mCustomSelectors\u001b[49m\u001b[43m(\u001b[49m\u001b[43mcustom\u001b[49m\u001b[43m)\u001b[49m\u001b[43m \u001b[49m\u001b[38;5;28;43;01mif\u001b[39;49;00m\u001b[43m \u001b[49m\u001b[43mcustom\u001b[49m\u001b[43m \u001b[49m\u001b[38;5;129;43;01mis\u001b[39;49;00m\u001b[43m \u001b[49m\u001b[38;5;129;43;01mnot\u001b[39;49;00m\u001b[43m \u001b[49m\u001b[38;5;28;43;01mNone\u001b[39;49;00m\u001b[43m \u001b[49m\u001b[38;5;28;43;01melse\u001b[39;49;00m\u001b[43m \u001b[49m\u001b[43mcustom\u001b[49m\u001b[43m,\u001b[49m\n\u001b[0;32m     69\u001b[0m \u001b[43m    \u001b[49m\u001b[43mflags\u001b[49m\n\u001b[0;32m     70\u001b[0m \u001b[43m\u001b[49m\u001b[43m)\u001b[49m\n",
      "File \u001b[1;32mc:\\Users\\fusik\\OneDrive\\Pulpit\\pp2\\CeneoScraper\\.venv\\Lib\\site-packages\\soupsieve\\css_parser.py:208\u001b[0m, in \u001b[0;36m_cached_css_compile\u001b[1;34m(pattern, namespaces, custom, flags)\u001b[0m\n\u001b[0;32m    199\u001b[0m \u001b[38;5;250m\u001b[39m\u001b[38;5;124;03m\"\"\"Cached CSS compile.\"\"\"\u001b[39;00m\n\u001b[0;32m    201\u001b[0m custom_selectors \u001b[38;5;241m=\u001b[39m process_custom(custom)\n\u001b[0;32m    202\u001b[0m \u001b[38;5;28;01mreturn\u001b[39;00m cm\u001b[38;5;241m.\u001b[39mSoupSieve(\n\u001b[0;32m    203\u001b[0m     pattern,\n\u001b[0;32m    204\u001b[0m     \u001b[43mCSSParser\u001b[49m\u001b[43m(\u001b[49m\n\u001b[0;32m    205\u001b[0m \u001b[43m        \u001b[49m\u001b[43mpattern\u001b[49m\u001b[43m,\u001b[49m\n\u001b[0;32m    206\u001b[0m \u001b[43m        \u001b[49m\u001b[43mcustom\u001b[49m\u001b[38;5;241;43m=\u001b[39;49m\u001b[43mcustom_selectors\u001b[49m\u001b[43m,\u001b[49m\n\u001b[0;32m    207\u001b[0m \u001b[43m        \u001b[49m\u001b[43mflags\u001b[49m\u001b[38;5;241;43m=\u001b[39;49m\u001b[43mflags\u001b[49m\n\u001b[1;32m--> 208\u001b[0m \u001b[43m    \u001b[49m\u001b[43m)\u001b[49m\u001b[38;5;241;43m.\u001b[39;49m\u001b[43mprocess_selectors\u001b[49m\u001b[43m(\u001b[49m\u001b[43m)\u001b[49m,\n\u001b[0;32m    209\u001b[0m     namespaces,\n\u001b[0;32m    210\u001b[0m     custom,\n\u001b[0;32m    211\u001b[0m     flags\n\u001b[0;32m    212\u001b[0m )\n",
      "File \u001b[1;32mc:\\Users\\fusik\\OneDrive\\Pulpit\\pp2\\CeneoScraper\\.venv\\Lib\\site-packages\\soupsieve\\css_parser.py:1129\u001b[0m, in \u001b[0;36mCSSParser.process_selectors\u001b[1;34m(self, index, flags)\u001b[0m\n\u001b[0;32m   1126\u001b[0m \u001b[38;5;28;01mdef\u001b[39;00m \u001b[38;5;21mprocess_selectors\u001b[39m(\u001b[38;5;28mself\u001b[39m, index: \u001b[38;5;28mint\u001b[39m \u001b[38;5;241m=\u001b[39m \u001b[38;5;241m0\u001b[39m, flags: \u001b[38;5;28mint\u001b[39m \u001b[38;5;241m=\u001b[39m \u001b[38;5;241m0\u001b[39m) \u001b[38;5;241m-\u001b[39m\u001b[38;5;241m>\u001b[39m ct\u001b[38;5;241m.\u001b[39mSelectorList:\n\u001b[0;32m   1127\u001b[0m \u001b[38;5;250m    \u001b[39m\u001b[38;5;124;03m\"\"\"Process selectors.\"\"\"\u001b[39;00m\n\u001b[1;32m-> 1129\u001b[0m     \u001b[38;5;28;01mreturn\u001b[39;00m \u001b[38;5;28;43mself\u001b[39;49m\u001b[38;5;241;43m.\u001b[39;49m\u001b[43mparse_selectors\u001b[49m\u001b[43m(\u001b[49m\u001b[38;5;28;43mself\u001b[39;49m\u001b[38;5;241;43m.\u001b[39;49m\u001b[43mselector_iter\u001b[49m\u001b[43m(\u001b[49m\u001b[38;5;28;43mself\u001b[39;49m\u001b[38;5;241;43m.\u001b[39;49m\u001b[43mpattern\u001b[49m\u001b[43m)\u001b[49m\u001b[43m,\u001b[49m\u001b[43m \u001b[49m\u001b[43mindex\u001b[49m\u001b[43m,\u001b[49m\u001b[43m \u001b[49m\u001b[43mflags\u001b[49m\u001b[43m)\u001b[49m\n",
      "File \u001b[1;32mc:\\Users\\fusik\\OneDrive\\Pulpit\\pp2\\CeneoScraper\\.venv\\Lib\\site-packages\\soupsieve\\css_parser.py:965\u001b[0m, in \u001b[0;36mCSSParser.parse_selectors\u001b[1;34m(self, iselector, index, flags)\u001b[0m\n\u001b[0;32m    963\u001b[0m \u001b[38;5;28;01mtry\u001b[39;00m:\n\u001b[0;32m    964\u001b[0m     \u001b[38;5;28;01mwhile\u001b[39;00m \u001b[38;5;28;01mTrue\u001b[39;00m:\n\u001b[1;32m--> 965\u001b[0m         key, m \u001b[38;5;241m=\u001b[39m \u001b[38;5;28mnext\u001b[39m(iselector)\n\u001b[0;32m    967\u001b[0m         \u001b[38;5;66;03m# Handle parts\u001b[39;00m\n\u001b[0;32m    968\u001b[0m         \u001b[38;5;28;01mif\u001b[39;00m key \u001b[38;5;241m==\u001b[39m \u001b[38;5;124m\"\u001b[39m\u001b[38;5;124mat_rule\u001b[39m\u001b[38;5;124m\"\u001b[39m:\n",
      "File \u001b[1;32mc:\\Users\\fusik\\OneDrive\\Pulpit\\pp2\\CeneoScraper\\.venv\\Lib\\site-packages\\soupsieve\\css_parser.py:1122\u001b[0m, in \u001b[0;36mCSSParser.selector_iter\u001b[1;34m(self, pattern)\u001b[0m\n\u001b[0;32m   1120\u001b[0m         \u001b[38;5;28;01melse\u001b[39;00m:\n\u001b[0;32m   1121\u001b[0m             msg \u001b[38;5;241m=\u001b[39m \u001b[38;5;124mf\u001b[39m\u001b[38;5;124m\"\u001b[39m\u001b[38;5;124mInvalid character \u001b[39m\u001b[38;5;132;01m{\u001b[39;00mc\u001b[38;5;132;01m!r}\u001b[39;00m\u001b[38;5;124m position \u001b[39m\u001b[38;5;132;01m{\u001b[39;00mindex\u001b[38;5;132;01m}\u001b[39;00m\u001b[38;5;124m\"\u001b[39m\n\u001b[1;32m-> 1122\u001b[0m         \u001b[38;5;28;01mraise\u001b[39;00m SelectorSyntaxError(msg, \u001b[38;5;28mself\u001b[39m\u001b[38;5;241m.\u001b[39mpattern, index)\n\u001b[0;32m   1123\u001b[0m \u001b[38;5;28;01mif\u001b[39;00m \u001b[38;5;28mself\u001b[39m\u001b[38;5;241m.\u001b[39mdebug:  \u001b[38;5;66;03m# pragma: no cover\u001b[39;00m\n\u001b[0;32m   1124\u001b[0m     \u001b[38;5;28mprint\u001b[39m(\u001b[38;5;124m'\u001b[39m\u001b[38;5;124m## END PARSING\u001b[39m\u001b[38;5;124m'\u001b[39m)\n",
      "\u001b[1;31mSelectorSyntaxError\u001b[0m: Malformed attribute selector at position 45\n  line 1:\nspan.user-post__published > time:nth-child(2)[\"datetime\"]\n                                             ^"
     ]
    }
   ],
   "source": [
    "opinion_id = opinion['data-entry-id']\n",
    "author = opinion.select_one('.user-post__author-name')\n",
    "recommendation = opinion.select_one('.user-post__author-recomendation')\n",
    "stars = opinion.select_one('.user-post__score-count')\n",
    "content = opinion.select_one('.user-post__text')\n",
    "pros = opinion.select('.review-feature__title--positives ~ .review-feature__item')\n",
    "cons = opinion.select('.review-feature__title--negatives ~ .review-feature__item')\n",
    "helpful = opinion.select_one('button.vote-yes > span')\n",
    "unhelpful = opinion.select_one('button.vote-no > span')\n",
    "publish_date = opinion.select_one('span.user-post__published > time:nth-child(1)[\"datetime\"]')\n",
    "purchase_date = opinion.select_one('span.user-post__published > time:nth-child(2)[\"datetime\"]')\n",
    "\n",
    "\n"
   ]
  }
 ],
 "metadata": {
  "kernelspec": {
   "display_name": ".venv",
   "language": "python",
   "name": "python3"
  },
  "language_info": {
   "codemirror_mode": {
    "name": "ipython",
    "version": 3
   },
   "file_extension": ".py",
   "mimetype": "text/x-python",
   "name": "python",
   "nbconvert_exporter": "python",
   "pygments_lexer": "ipython3",
   "version": "3.11.8"
  }
 },
 "nbformat": 4,
 "nbformat_minor": 2
}
