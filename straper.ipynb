{
 "cells": [
  {
   "cell_type": "markdown",
   "metadata": {},
   "source": [
    "## Ceneo Scraper"
   ]
  },
  {
   "cell_type": "markdown",
   "metadata": {},
   "source": [
    "## Załadowanie bibliotek"
   ]
  },
  {
   "cell_type": "code",
   "execution_count": 2,
   "metadata": {},
   "outputs": [],
   "source": [
    "import requests\n",
    "from bs4 import BeautifulSoup"
   ]
  },
  {
   "cell_type": "markdown",
   "metadata": {},
   "source": [
    "## Wysyłanie zapytanie do serwera"
   ]
  },
  {
   "cell_type": "code",
   "execution_count": 3,
   "metadata": {},
   "outputs": [],
   "source": [
    "product_id = '138331381'\n",
    "url = f'https://www.ceneo.pl/{product_id}#tab=reviews'\n",
    "response = requests.get(url)"
   ]
  },
  {
   "cell_type": "markdown",
   "metadata": {},
   "source": [
    "## Pobieranie opini z kodu HTML strony"
   ]
  },
  {
   "cell_type": "code",
   "execution_count": 4,
   "metadata": {},
   "outputs": [
    {
     "data": {
      "text/plain": [
       "<div class=\"user-post user-post__card js_product-review\" data-entry-id=\"18497226\">\n",
       "<header class=\"user-post__header\">\n",
       "<div class=\"js_lazy user-post__avatar user-rank__avatar\" data-bg=\"/Content/img/account/avatar/2.svg\"></div>\n",
       "</header>\n",
       "<div class=\"user-post__body\">\n",
       "<div class=\"user-post__content\">\n",
       "<span class=\"user-post__author-name\">\n",
       "m...r</span>\n",
       "<span class=\"user-post__author-recomendation\">\n",
       "<em class=\"recommended\">Polecam</em>\n",
       "</span>\n",
       "<span class=\"user-post__score\">\n",
       "<span class=\"screen-reader-text\">Ocena:</span>\n",
       "<span class=\"score-container score-container--s js_score-container\">\n",
       "<span class=\"score-marker score-marker--s\" style=\"width: 100.00%;\"></span>\n",
       "</span>\n",
       "<span class=\"user-post__score-count\">5/5</span>\n",
       "<span class=\"user-post__published\">\n",
       "        Wystawiono\n",
       "        <time datetime=\"2024-03-16 13:07:37\">2 tygodnie temu, </time>\n",
       "<time datetime=\"2024-03-08 18:30:25\">po 2 tygodniach</time> użytkowania            </span>\n",
       "</span>\n",
       "<div class=\"user-post__text\">Ładniejszy niż na fotce. Jeszcze nie zamontowany ale to kwestia kilku dni. Niezły gadżet na altanę działkową. </div>\n",
       "<div class=\"review-feature\">\n",
       "<div class=\"review-feature__col\">\n",
       "<div class=\"review-feature__title review-feature__title--positives\">Zalety</div>\n",
       "<div class=\"review-feature__item\">jakość</div>\n",
       "<div class=\"review-feature__item\">solidność</div>\n",
       "<div class=\"review-feature__item\">wygląd</div>\n",
       "</div>\n",
       "</div>\n",
       "<div class=\"user-post__bottom\">\n",
       "</div>\n",
       "</div>\n",
       "<div class=\"user-post__info\">\n",
       "<div class=\"d-flex align-items-center justify-content-end\">\n",
       "<div class=\"js_product-review-usefulness vote\">\n",
       "<button class=\"vote-yes js_product-review-vote js_vote-yes\" data-new-icon=\"vote-up\" data-product-id=\"138331381\" data-review-id=\"18497226\" data-total-vote=\"0\" data-url=\"SetOpinionVote\" data-vote=\"1\" data-voted=\"false\"><span id=\"votes-yes-18497226\">0</span></button>\n",
       "<button class=\"vote-no js_product-review-vote js_vote-no\" data-new-icon=\"vote-down\" data-product-id=\"138331381\" data-review-id=\"18497226\" data-total-vote=\"0\" data-url=\"SetOpinionVote\" data-vote=\"0\" data-voted=\"false\"><span id=\"votes-no-18497226\">0</span></button>\n",
       "</div>\n",
       "<div class=\"dropdown-wrapper\">\n",
       "<span class=\"dots-icon-vert\" data-toggle=\"dropdown\"></span>\n",
       "<ul class=\"dropdown-menu force-left\">\n",
       "<li class=\"dropdown-menu__item\" data-product-id=\"138331381\" data-review-id=\"18497226\">\n",
       "<div class=\"js_report-abuse report-abuse cursor-pointer\" data-report-type=\"1\" role=\"button\">\n",
       "<span>\n",
       "Zgłoś    </span>\n",
       "</div>\n",
       "</li>\n",
       "</ul>\n",
       "</div>\n",
       "</div>\n",
       "<div class=\"review-pz\" data-hint=\"Opinia została napisana przez Użytkownika, który kupił produkt.\">\n",
       "<em>Transakcja pochodzi z Marketplace Ceneo (usługi Kup Teraz).</em>\n",
       "</div>\n",
       "</div>\n",
       "<div class=\"js_product-review-comments js_product-review-hook js_product-review-comments-list\" id=\"product-review-comments-18497226\">\n",
       "<a class=\"user-post js_product-review-comment-toggle\" data-comments-count=\"0\" data-product-review-id=\"138331381\" data-review-id=\"18497226\" href=\"#product-review-comment-18497226\" role=\"button\">\n",
       "</a>\n",
       "<div class=\"js_product-review-form-hook\" id=\"product-review-comment-18497226\"></div>\n",
       "</div>\n",
       "</div>\n",
       "</div>"
      ]
     },
     "execution_count": 4,
     "metadata": {},
     "output_type": "execute_result"
    }
   ],
   "source": [
    "page_dom = BeautifulSoup(response.text, 'html.parser')\n",
    "opinion = page_dom.select(\"div.js_product-review\")\n",
    "opinion = opinion.pop(0)\n",
    "opinion\n",
    "\n"
   ]
  },
  {
   "cell_type": "markdown",
   "metadata": {},
   "source": [
    "## Ekstrakcja składowych pojedyńczej opinii\n",
    "\n",
    "|Składowa|Selector|Zmienna|\n",
    "|--------|--------|-------|\n",
    "|id opinii|['data-entry-id']|opinion_id|\n",
    "|autor|.user-post__author-name|author|\n",
    "|rekomendacja|.user-post__author-recomendation|recommendation|\n",
    "|gwiazdki|.user-post__score-count|stars|\n",
    "|treść|.user-post__text|content|\n",
    "|lista zalet|.review-feature__title--positives. ~ .review-feature__item|pros|\n",
    "|lista wad|.review-feature__title--negatives. ~ .review-feature__item|cons|\n",
    "|dla ilu przydatna|.vote-yes>.|helpful|\n",
    "|dla ilu nie przydatna|.vote-no>.|unhelpful|\n",
    "|data wystawienia|user-post__published > time:nth-child(1)[\"datetime\"]|publish_date|\n",
    "|data zakupu|user-post__published > time:nth-child(2)[\"datetime\"]|purchase_date|"
   ]
  },
  {
   "cell_type": "markdown",
   "metadata": {},
   "source": []
  },
  {
   "cell_type": "code",
   "execution_count": 5,
   "metadata": {},
   "outputs": [
    {
     "ename": "KeyError",
     "evalue": "'data_entry-id'",
     "output_type": "error",
     "traceback": [
      "\u001b[1;31m---------------------------------------------------------------------------\u001b[0m",
      "\u001b[1;31mKeyError\u001b[0m                                  Traceback (most recent call last)",
      "Cell \u001b[1;32mIn[5], line 1\u001b[0m\n\u001b[1;32m----> 1\u001b[0m opinion_id \u001b[38;5;241m=\u001b[39m \u001b[43mopinion\u001b[49m\u001b[43m[\u001b[49m\u001b[38;5;124;43m'\u001b[39;49m\u001b[38;5;124;43mdata_entry-id\u001b[39;49m\u001b[38;5;124;43m'\u001b[39;49m\u001b[43m]\u001b[49m\n\u001b[0;32m      2\u001b[0m author \u001b[38;5;241m=\u001b[39m opinion[\u001b[38;5;124m'\u001b[39m\u001b[38;5;124m.user-post__author-name\u001b[39m\u001b[38;5;124m'\u001b[39m]\n\u001b[0;32m      3\u001b[0m recommendation \u001b[38;5;241m=\u001b[39m opinion[\u001b[38;5;124m'\u001b[39m\u001b[38;5;124m.user-post__author-recomendation\u001b[39m\u001b[38;5;124m'\u001b[39m]\n",
      "File \u001b[1;32mc:\\Users\\fusik\\OneDrive\\Pulpit\\pp2\\CeneoScraper\\.venv\\Lib\\site-packages\\bs4\\element.py:1573\u001b[0m, in \u001b[0;36mTag.__getitem__\u001b[1;34m(self, key)\u001b[0m\n\u001b[0;32m   1570\u001b[0m \u001b[38;5;28;01mdef\u001b[39;00m \u001b[38;5;21m__getitem__\u001b[39m(\u001b[38;5;28mself\u001b[39m, key):\n\u001b[0;32m   1571\u001b[0m \u001b[38;5;250m    \u001b[39m\u001b[38;5;124;03m\"\"\"tag[key] returns the value of the 'key' attribute for the Tag,\u001b[39;00m\n\u001b[0;32m   1572\u001b[0m \u001b[38;5;124;03m    and throws an exception if it's not there.\"\"\"\u001b[39;00m\n\u001b[1;32m-> 1573\u001b[0m     \u001b[38;5;28;01mreturn\u001b[39;00m \u001b[38;5;28;43mself\u001b[39;49m\u001b[38;5;241;43m.\u001b[39;49m\u001b[43mattrs\u001b[49m\u001b[43m[\u001b[49m\u001b[43mkey\u001b[49m\u001b[43m]\u001b[49m\n",
      "\u001b[1;31mKeyError\u001b[0m: 'data_entry-id'"
     ]
    }
   ],
   "source": [
    "opinion_id = opinion['data_entry-id']\n",
    "author = opinion['.user-post__author-name']\n",
    "recommendation = opinion['.user-post__author-recomendation']\n",
    "stars = opinion['.user-post__score-count']\n",
    "content = opinion['.user-post__text']\n",
    "pros = opinion['.review-feature__title--positives. ~ .review-feature__item']\n",
    "cons = opinion['.review-feature__title--negatives. ~ .review-feature__item']\n",
    "helpful = opinion['.vote-yes>.']\n",
    "unhelpful = opinion['.vote-no>.']\n",
    "publish_date = opinion['time:nth-child(1)']\n",
    "purchase_date = opinion['user-post__published > time:nth-child(2)']"
   ]
  }
 ],
 "metadata": {
  "kernelspec": {
   "display_name": ".venv",
   "language": "python",
   "name": "python3"
  },
  "language_info": {
   "codemirror_mode": {
    "name": "ipython",
    "version": 3
   },
   "file_extension": ".py",
   "mimetype": "text/x-python",
   "name": "python",
   "nbconvert_exporter": "python",
   "pygments_lexer": "ipython3",
   "version": "3.11.8"
  }
 },
 "nbformat": 4,
 "nbformat_minor": 2
}
